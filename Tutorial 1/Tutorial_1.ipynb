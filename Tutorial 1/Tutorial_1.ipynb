{
 "cells": [
  {
   "cell_type": "markdown",
   "metadata": {},
   "source": [
    "# Welcome to the Pandas Tutorials"
   ]
  },
  {
   "cell_type": "code",
   "execution_count": 1,
   "metadata": {},
   "outputs": [],
   "source": [
    "# Before Starting with the session, run the follwing code\n",
    "\n",
    "import Tutorial_1"
   ]
  },
  {
   "cell_type": "markdown",
   "metadata": {},
   "source": [
    "```pandas``` are the packages that helps programmers help to manage diffrent DataSets effectively"
   ]
  },
  {
   "cell_type": "markdown",
   "metadata": {},
   "source": [
    "To work with ```pandas```, we should import the ```pandas``` package into our program. This should be done after installing ```pandas``` into our Local Machine, or by using **Jupyter** or **Google Colab**"
   ]
  },
  {
   "cell_type": "markdown",
   "metadata": {
    "vscode": {
     "languageId": "plaintext"
    }
   },
   "source": [
    "The line to import a ```pandas``` package is ```import pandas as pd```, where:\n",
    "- ```import``` is the import statement\n",
    "- ```pandas``` is the name of the package\n",
    "- ```as``` is used to create an alias / nickname\n",
    "- ```pd``` is the nickname given to the ```pandas``` package"
   ]
  },
  {
   "cell_type": "code",
   "execution_count": 2,
   "metadata": {},
   "outputs": [],
   "source": [
    "# Type in the pandas package import statement below to import it\n"
   ]
  },
  {
   "cell_type": "markdown",
   "metadata": {
    "vscode": {
     "languageId": "plaintext"
    }
   },
   "source": [
    "Now we have imported the ```pandas``` package into our program, we will perform diffrent tasks now."
   ]
  },
  {
   "cell_type": "markdown",
   "metadata": {},
   "source": [
    "## Creating a ```DataFrame```"
   ]
  },
  {
   "cell_type": "markdown",
   "metadata": {},
   "source": [
    "```DataFrame``` is the type of the data we are going to work with. ```DataFrames``` contain the actual data in an **Tabular** manner, which can be easily interpreted or understood by humans.   \n",
    "   \n",
    "\n",
    "To create a ```DataFrame```, we use the following syntax  ```*Dataframe Variable* = pd.DataFrame( *iterable* ) ```, where\n",
    "- the ```iterable``` is a **N-Dimentsional Dictionary**"
   ]
  },
  {
   "cell_type": "code",
   "execution_count": 3,
   "metadata": {},
   "outputs": [],
   "source": [
    "# Create a DataFrame Variable named 'DATA1' with the iterable 'example' passed into it\n",
    "example = {'Apple': [10], 'Banana': [15], 'Cherry': [5]}\n",
    "\n"
   ]
  },
  {
   "cell_type": "markdown",
   "metadata": {},
   "source": [
    "As you can see that the ```DataFrame``` ```DATA``` is created sucessfully. Now to display the created ```DataFrame```, we will just type in the ```DataFrame``` variable into the code cell to get the output"
   ]
  },
  {
   "cell_type": "code",
   "execution_count": 4,
   "metadata": {},
   "outputs": [],
   "source": [
    "# Type in the DataFrame Variable name below to see the data within the DataFrame Variable\n"
   ]
  },
  {
   "cell_type": "markdown",
   "metadata": {},
   "source": [
    "The Output will look similar to the picture given below\n",
    "\n",
    "![](./Assets/Ex_1_1.png)"
   ]
  },
  {
   "cell_type": "markdown",
   "metadata": {},
   "source": [
    "As you can see that the ```DataFrame``` Variable is not displayed in an linear format, with brackets and all such things, but will be displayed in an user-intuitive, understandable Tabular form.   \n",
    "   \n",
    "As of now, you will be aware that the ```DataFrame``` created is of 1-Dimension Data. To Create a ```DataFrame``` with 2-Dimensional Data, we pass in a **2-Dimensional Dictionary**"
   ]
  },
  {
   "cell_type": "code",
   "execution_count": 5,
   "metadata": {},
   "outputs": [],
   "source": [
    "# Create a DataFrame Variable named 'DATA2', with the iterable 'example' passed into it\n",
    "example = {'Apple': [10, 20], 'Banana': [15,30], 'Cherry': [5, 10]}\n"
   ]
  },
  {
   "cell_type": "markdown",
   "metadata": {},
   "source": [
    "The ```DataFrame``` is now created. To print it, we just type in the ```DataFrame``` variable again into the code cell to get the output."
   ]
  },
  {
   "cell_type": "code",
   "execution_count": 6,
   "metadata": {},
   "outputs": [],
   "source": [
    "# Type the DataFrame Variable name created above to get the output\n"
   ]
  },
  {
   "cell_type": "markdown",
   "metadata": {},
   "source": [
    "The Output above will look similar to the one that is given below.   \n",
    "   \n",
    "![](./Assets/Ex_1_2.png)"
   ]
  },
  {
   "cell_type": "markdown",
   "metadata": {},
   "source": [
    "### Task 1"
   ]
  },
  {
   "cell_type": "markdown",
   "metadata": {},
   "source": [
    "Create a ```DataFrame``` named ```DATAFRAME_1```, which when printed, will provide the following output:\n",
    "\n",
    "![](./Assets/Ex_1_3.png)"
   ]
  },
  {
   "cell_type": "code",
   "execution_count": 11,
   "metadata": {},
   "outputs": [
    {
     "data": {
      "text/plain": [
       "'Correct Answer!'"
      ]
     },
     "execution_count": 11,
     "metadata": {},
     "output_type": "execute_result"
    }
   ],
   "source": [
    "# Type in the code below\n",
    "\n",
    "\n",
    "\n",
    "\n",
    "Tutorial_1.TASK_1( DATAFRAME_1 )"
   ]
  },
  {
   "cell_type": "code",
   "execution_count": null,
   "metadata": {},
   "outputs": [],
   "source": []
  }
 ],
 "metadata": {
  "kernelspec": {
   "display_name": "Python 3",
   "language": "python",
   "name": "python3"
  },
  "language_info": {
   "codemirror_mode": {
    "name": "ipython",
    "version": 3
   },
   "file_extension": ".py",
   "mimetype": "text/x-python",
   "name": "python",
   "nbconvert_exporter": "python",
   "pygments_lexer": "ipython3",
   "version": "3.11.9"
  }
 },
 "nbformat": 4,
 "nbformat_minor": 2
}
