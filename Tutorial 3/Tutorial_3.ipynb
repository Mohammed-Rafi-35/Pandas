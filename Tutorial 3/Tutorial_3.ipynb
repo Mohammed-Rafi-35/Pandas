{
 "cells": [
  {
   "cell_type": "markdown",
   "metadata": {},
   "source": [
    "# Working with ```DataSets```"
   ]
  },
  {
   "cell_type": "markdown",
   "metadata": {},
   "source": [
    "Since you have already familar with creating a ```DataSet``` and printing the outputs, we will be discussing about various types of data Manipulations in ```DataSets```"
   ]
  },
  {
   "cell_type": "code",
   "execution_count": 9,
   "metadata": {},
   "outputs": [],
   "source": [
    "# Before Starting the session, run the following code cell\n",
    "\n",
    "import pandas as pd\n",
    "import Tutorial_3\n",
    "\n",
    "RAMEN = pd.read_csv('./Data Sets/ramen-ratings.csv')"
   ]
  },
  {
   "cell_type": "markdown",
   "metadata": {},
   "source": [
    "The above code cell will import the ```pandas``` package and will import a ```DataSet``` which deals with different retings of Ramen in diffrent restaurants into a ```DataSet``` variable called ```RAMEN```"
   ]
  },
  {
   "cell_type": "markdown",
   "metadata": {},
   "source": [
    "Before starting with the course, let's recap the concepts by solving a simple Task"
   ]
  },
  {
   "cell_type": "markdown",
   "metadata": {},
   "source": [
    "## TASK 1"
   ]
  },
  {
   "cell_type": "markdown",
   "metadata": {},
   "source": [
    "Create a ```DataSet``` variable called ```DATA_1``` which import the Data Set from the link provided. Your task is to create another ```DataSet``` called ```OUT```, which holds the first ```10``` entries of the ```DataSet``` ```DATA_1```"
   ]
  },
  {
   "cell_type": "code",
   "execution_count": 11,
   "metadata": {},
   "outputs": [],
   "source": [
    "# Type in the Code below\n",
    "\n",
    "\n",
    "\n",
    "Tutorial_3.TASK_1( OUT )"
   ]
  },
  {
   "cell_type": "markdown",
   "metadata": {},
   "source": [
    "## Creating a ```.csv``` file from a ```DataFrame```"
   ]
  },
  {
   "cell_type": "markdown",
   "metadata": {},
   "source": [
    "As you already know how to create a ```DataFrame``` and what might be a ```.csv``` file as of now.  If you didn't get it, no issues, the links below will take you to the topics.\n",
    "   \n",
    "- <a href='../Tutorial%201/Tutorial_1.ipynb#DataFrame'> ```Creating DataFrames``` </a>\n",
    "- <a href='../Tutorial 2/Tutorial_2.ipynb#CSV'> ```Understanding .csv``` </a>\n",
    "   \n",
    "\n",
    "Now creating a ```.csv``` file from a ```DataSet``` is done with the following syntax ```DataFrame_variable.to_csv(' filename' )```, where,\n",
    "- ```DataFrame_variable``` refers to the ```DataFrame``` Variable\n",
    "- ```filename``` refers to the File Name of the new ```.csv``` file that we are gonna save the ```DataFrame``` as"
   ]
  },
  {
   "cell_type": "code",
   "execution_count": 12,
   "metadata": {},
   "outputs": [],
   "source": [
    "# Given is a DataFrame DATA, save this file as 'Animals'\n",
    "\n",
    "DATA = {'Cows': [12, 20], 'Goats': [22, 19]}"
   ]
  },
  {
   "cell_type": "markdown",
   "metadata": {},
   "source": []
  }
 ],
 "metadata": {
  "kernelspec": {
   "display_name": "Python 3",
   "language": "python",
   "name": "python3"
  },
  "language_info": {
   "codemirror_mode": {
    "name": "ipython",
    "version": 3
   },
   "file_extension": ".py",
   "mimetype": "text/x-python",
   "name": "python",
   "nbconvert_exporter": "python",
   "pygments_lexer": "ipython3",
   "version": "3.11.9"
  }
 },
 "nbformat": 4,
 "nbformat_minor": 2
}
