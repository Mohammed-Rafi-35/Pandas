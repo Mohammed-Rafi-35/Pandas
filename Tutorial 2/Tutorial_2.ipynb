{
 "cells": [
  {
   "cell_type": "markdown",
   "metadata": {},
   "source": [
    "# Working with DataSets"
   ]
  },
  {
   "cell_type": "markdown",
   "metadata": {},
   "source": [
    "In last Tutorial, we have learnt about creating a ```DataFrame``` or an ```Series``` using ```Pandas```. In this Tutorial, we will learn about Linking a ```DataSet``` into out Python Program."
   ]
  },
  {
   "cell_type": "code",
   "execution_count": null,
   "metadata": {},
   "outputs": [],
   "source": [
    "# Before starting this tutorial, run this code\n",
    "\n",
    "import Tutorial_2"
   ]
  },
  {
   "cell_type": "markdown",
   "metadata": {},
   "source": [
    "---"
   ]
  },
  {
   "cell_type": "markdown",
   "metadata": {},
   "source": [
    "## Intro to a ```.csv``` file"
   ]
  },
  {
   "cell_type": "markdown",
   "metadata": {},
   "source": [
    "<c id='CSV'></c>\n",
    "An ```.csv``` file is an external file that holds data in form of an table, that can be imported into Python by using certain method in ```pandas``` package.   \n",
    "An ```.csv``` file is a variation of Excel Document with an extension ```.xls``` or ```.xlsx```, and it can be edited in Excel or Google Sheets as we do in an normal Excel sheet"
   ]
  },
  {
   "cell_type": "markdown",
   "metadata": {},
   "source": [
    "## Importing a ```DataSet``` into program"
   ]
  },
  {
   "cell_type": "markdown",
   "metadata": {},
   "source": [
    "Before importing the ```DataSet``` into the program, we should import the nessasary packages into our program."
   ]
  },
  {
   "cell_type": "code",
   "execution_count": null,
   "metadata": {},
   "outputs": [],
   "source": [
    "# Import the pandas package into the program by filling in the code below:\n",
    "\n"
   ]
  },
  {
   "cell_type": "markdown",
   "metadata": {},
   "source": [
    "Now we have imported out ```Pandas``` package, we will proceed to import an ```DataSet``` into our program.   \n",
    "   \n",
    "To import a ```DataSet```, we  use the following syntax: ```DataSet Variable = pd.read_csv(\" Link to the CSV File used as DataSet\" )```, where\n",
    "- ```pd``` is the ```pandas``` package imported with the name ```pd```\n",
    "- ```read_csv()``` the inbuilt method used to import a ```.csv``` file as a ```DataSet```\n",
    "- ```Link``` is the link to the ```.csv``` file to be imported\n"
   ]
  },
  {
   "cell_type": "code",
   "execution_count": null,
   "metadata": {},
   "outputs": [],
   "source": [
    "# Using the link given below in the variable 'link', import the DataSet as the variable DATA\n",
    "link = './Data Sets/AppleStore.csv'\n",
    "\n",
    "\n",
    "Tutorial_2.import_check( DATA )"
   ]
  },
  {
   "cell_type": "markdown",
   "metadata": {},
   "source": [
    "## Printing a ```DataSet```"
   ]
  },
  {
   "cell_type": "markdown",
   "metadata": {},
   "source": [
    "To print a ```DataSet``` into the Output console, we directly type in the ```DataSet``` variable into the code cell"
   ]
  },
  {
   "cell_type": "code",
   "execution_count": null,
   "metadata": {},
   "outputs": [],
   "source": [
    "# Type in the DataSet variable name to print in the data\n",
    "\n"
   ]
  },
  {
   "cell_type": "markdown",
   "metadata": {},
   "source": [
    "The above Code Cell will provide an output similar to the one given below:\n",
    "\n",
    "![](./Assets/Ex_2_1.png)"
   ]
  },
  {
   "cell_type": "markdown",
   "metadata": {},
   "source": [
    "*Note that the Data gets turncated to fit into the output cell*   "
   ]
  },
  {
   "cell_type": "markdown",
   "metadata": {},
   "source": [
    "## The ```head()``` method\n",
    "\n",
    "In addition for typing the DataSet variable directly, which will actually print the entire Data contained in the DataSet variable, we can use the ```head()``` method included within the ```DataSet``` class.   \n",
    "The Syntax for using it is ```DataSet Variable.head()```, where\n",
    "- ```DataSet Variable``` is the actual ```DataSet``` variable name imported.\n",
    "- ```head()``` is the method used for printing the data"
   ]
  },
  {
   "cell_type": "code",
   "execution_count": null,
   "metadata": {},
   "outputs": [],
   "source": [
    "# Using the variable created above by you, use the head() Method to print the data\n",
    "\n"
   ]
  },
  {
   "cell_type": "markdown",
   "metadata": {},
   "source": [
    "By executing the above code cell, you should be able to get the following output:   \n",
    "\n",
    "![](./Assets/Ex_2_2.png)   \n",
    "   \n",
    "*Note that the data got in the Output is only upto the first 5 Entries, if available*"
   ]
  },
  {
   "cell_type": "markdown",
   "metadata": {},
   "source": [
    "The ```head()``` function will also take in an integer parameter, which specifies the number of entries to print, if available print the specified number of data entries in the ```DataSet```"
   ]
  },
  {
   "cell_type": "code",
   "execution_count": null,
   "metadata": {},
   "outputs": [],
   "source": [
    "# Use the head() method with the DataSet variable created above by you to print 10 entries\n",
    "\n"
   ]
  },
  {
   "cell_type": "markdown",
   "metadata": {},
   "source": [
    "By running the above code cell, you can expect to get an ouput like the one given below:\n",
    "\n",
    "![](./Assets/Ex_2_3.png)"
   ]
  },
  {
   "cell_type": "markdown",
   "metadata": {},
   "source": [
    "## The ```tail()``` method"
   ]
  },
  {
   "cell_type": "markdown",
   "metadata": {},
   "source": [
    "The ```tail()``` method, just like the ```head()``` method, is used to print the data from the ```DataSet``` variable. The ```tail()``` method prints the data from the last entry of the Data.   \n",
    "   \n",
    "the ```tail()``` method is used with the syntax ```DataSet Variable.tail()```, where\n",
    "- ```DataSet Varaible``` the ```DataSet``` variable to be printed\n",
    "- ```.tail()``` is themethod used to print the data from the last entries"
   ]
  },
  {
   "cell_type": "code",
   "execution_count": null,
   "metadata": {},
   "outputs": [],
   "source": [
    "# Use the tail() method with the DataSet variable created above by you to print the data\n",
    "\n"
   ]
  },
  {
   "cell_type": "markdown",
   "metadata": {},
   "source": [
    "Just like the ```head()``` method, the ```tail()``` method also accepts an integer parameter, which specifies the number of entries to print, if available"
   ]
  },
  {
   "cell_type": "code",
   "execution_count": null,
   "metadata": {},
   "outputs": [],
   "source": [
    "# Use the tail() method with the DataSet variable created above by you to print 10 entries\n",
    "\n"
   ]
  },
  {
   "cell_type": "markdown",
   "metadata": {},
   "source": [
    "## TASK 1"
   ]
  },
  {
   "cell_type": "markdown",
   "metadata": {},
   "source": [
    "Import the ```DataSet``` in the link ```./Data Sets/YouTube.csv``` and store it in a ```DataSet``` variable named ```DATA_1```"
   ]
  },
  {
   "cell_type": "code",
   "execution_count": null,
   "metadata": {},
   "outputs": [],
   "source": [
    "# type in the code below:\n",
    "link = \"./Data Sets/YouTube.csv\"\n",
    "\n",
    "\n",
    "Tutorial_2.TASK_1( DATA_1 )"
   ]
  },
  {
   "cell_type": "markdown",
   "metadata": {},
   "source": []
  },
  {
   "cell_type": "markdown",
   "metadata": {},
   "source": [
    "## TASK 2"
   ]
  },
  {
   "cell_type": "markdown",
   "metadata": {},
   "source": [
    "Using the ```DataSet``` imported in **TASK 1**, create another variable called ```DATA_2``` and store the first ```10``` entries of variable ```DATA_1```"
   ]
  },
  {
   "cell_type": "code",
   "execution_count": null,
   "metadata": {},
   "outputs": [],
   "source": [
    "# type in the code below\n",
    "\n",
    "\n",
    "\n",
    "Tutorial_2.TASK_2( DATA_2 )"
   ]
  },
  {
   "cell_type": "markdown",
   "metadata": {},
   "source": [
    "## TASK 3"
   ]
  },
  {
   "cell_type": "markdown",
   "metadata": {},
   "source": [
    "Using the ```DataSet``` imported in **TASK 1**, create another variable called ```DATA_3``` and store the last ```20``` entries of the variable ```DATA_1```"
   ]
  },
  {
   "cell_type": "code",
   "execution_count": null,
   "metadata": {},
   "outputs": [],
   "source": [
    "# type in the code below\n",
    "\n",
    "\n",
    "Tutorial_2.TASK_3( DATA_3 )"
   ]
  },
  {
   "cell_type": "markdown",
   "metadata": {},
   "source": []
  }
 ],
 "metadata": {
  "kernelspec": {
   "display_name": "Python 3",
   "language": "python",
   "name": "python3"
  },
  "language_info": {
   "codemirror_mode": {
    "name": "ipython",
    "version": 3
   },
   "file_extension": ".py",
   "mimetype": "text/x-python",
   "name": "python",
   "nbconvert_exporter": "python",
   "pygments_lexer": "ipython3",
   "version": "3.11.9"
  }
 },
 "nbformat": 4,
 "nbformat_minor": 2
}
