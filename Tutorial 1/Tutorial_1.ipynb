{
 "cells": [
  {
   "cell_type": "markdown",
   "metadata": {},
   "source": [
    "# Welcome to the Pandas Tutorials"
   ]
  },
  {
   "cell_type": "code",
   "execution_count": 4,
   "metadata": {},
   "outputs": [],
   "source": [
    "# Before Starting with the session, run the follwing code\n",
    "\n",
    "import Tutorial_1"
   ]
  },
  {
   "cell_type": "markdown",
   "metadata": {},
   "source": [
    "```pandas``` are the packages that helps programmers help to manage diffrent DataSets effectively"
   ]
  },
  {
   "cell_type": "markdown",
   "metadata": {},
   "source": [
    "To work with ```pandas```, we should import the ```pandas``` package into our program. This should be done after installing ```pandas``` into our Local Machine, or by using **Jupyter** or **Google Colab**"
   ]
  },
  {
   "cell_type": "markdown",
   "metadata": {
    "vscode": {
     "languageId": "plaintext"
    }
   },
   "source": [
    "The line to import a ```pandas``` package is ```import pandas as pd```, where:\n",
    "- ```import``` is the import statement\n",
    "- ```pandas``` is the name of the package\n",
    "- ```as``` is used to create an alias / nickname\n",
    "- ```pd``` is the nickname given to the ```pandas``` package"
   ]
  },
  {
   "cell_type": "code",
   "execution_count": 5,
   "metadata": {},
   "outputs": [],
   "source": [
    "# Type in the pandas package import statement below to import it\n",
    "import pandas as pd"
   ]
  },
  {
   "cell_type": "markdown",
   "metadata": {
    "vscode": {
     "languageId": "plaintext"
    }
   },
   "source": [
    "Now we have imported the ```pandas``` package into our program, we will perform diffrent tasks now."
   ]
  },
  {
   "cell_type": "markdown",
   "metadata": {},
   "source": [
    "## Creating a ```DataFrame```"
   ]
  },
  {
   "cell_type": "markdown",
   "metadata": {},
   "source": [
    "```DataFrame``` is the type of the data we are going to work with. ```DataFrames``` contain the actual data in an **Tabular** manner, which can be easily interpreted or understood by humans.   \n",
    "   \n",
    "\n",
    "To create a ```DataFrame```, we use the following syntax  ```Dataframe Variable = pd.DataFrame( iterable ) ```, where\n",
    "- the ```iterable``` is a **N-Dimensional Dictionary**"
   ]
  },
  {
   "cell_type": "code",
   "execution_count": 14,
   "metadata": {},
   "outputs": [],
   "source": [
    "# Create a DataFrame Variable named 'DATA1' with the iterable 'example' passed into it\n",
    "example = {'Apple': [10], 'Banana': [15], 'Cherry': [5]}\n",
    "\n",
    "DATA1 = pd.DataFrame( example )"
   ]
  },
  {
   "cell_type": "markdown",
   "metadata": {},
   "source": [
    "As you can see that the ```DataFrame``` ```DATA1``` is created sucessfully. Now to display the created ```DataFrame```, we will just type in the ```DataFrame``` variable into the code cell to get the output"
   ]
  },
  {
   "cell_type": "code",
   "execution_count": 15,
   "metadata": {},
   "outputs": [
    {
     "data": {
      "text/html": [
       "<div>\n",
       "<style scoped>\n",
       "    .dataframe tbody tr th:only-of-type {\n",
       "        vertical-align: middle;\n",
       "    }\n",
       "\n",
       "    .dataframe tbody tr th {\n",
       "        vertical-align: top;\n",
       "    }\n",
       "\n",
       "    .dataframe thead th {\n",
       "        text-align: right;\n",
       "    }\n",
       "</style>\n",
       "<table border=\"1\" class=\"dataframe\">\n",
       "  <thead>\n",
       "    <tr style=\"text-align: right;\">\n",
       "      <th></th>\n",
       "      <th>Apple</th>\n",
       "      <th>Banana</th>\n",
       "      <th>Cherry</th>\n",
       "    </tr>\n",
       "  </thead>\n",
       "  <tbody>\n",
       "    <tr>\n",
       "      <th>0</th>\n",
       "      <td>10</td>\n",
       "      <td>15</td>\n",
       "      <td>5</td>\n",
       "    </tr>\n",
       "  </tbody>\n",
       "</table>\n",
       "</div>"
      ],
      "text/plain": [
       "   Apple  Banana  Cherry\n",
       "0     10      15       5"
      ]
     },
     "execution_count": 15,
     "metadata": {},
     "output_type": "execute_result"
    }
   ],
   "source": [
    "# Type in the DataFrame Variable name below to see the data within the DataFrame Variable\n",
    "DATA1"
   ]
  },
  {
   "cell_type": "markdown",
   "metadata": {},
   "source": [
    "The Output will look similar to the picture given below\n",
    "\n",
    "![](./Assets/Ex_1_1.png)"
   ]
  },
  {
   "cell_type": "markdown",
   "metadata": {},
   "source": [
    "As you can see that the ```DataFrame``` Variable is not displayed in an linear format, with brackets and all such things, but will be displayed in an user-intuitive, understandable Tabular form.   \n",
    "   \n",
    "As of now, you will be aware that the ```DataFrame``` created is of 1-Dimension Data. To Create a ```DataFrame``` with 2-Dimensional Data, we pass in a **2-Dimensional Dictionary**"
   ]
  },
  {
   "cell_type": "code",
   "execution_count": 16,
   "metadata": {},
   "outputs": [],
   "source": [
    "# Create a DataFrame Variable named 'DATA2', with the iterable 'example' passed into it\n",
    "example = {'Apple': [10, 20], 'Banana': [15,30], 'Cherry': [5, 10]}\n",
    "\n",
    "DATA2 = pd.DataFrame( example )"
   ]
  },
  {
   "cell_type": "markdown",
   "metadata": {},
   "source": [
    "The ```DataFrame``` is now created. To print it, we just type in the ```DataFrame``` variable again into the code cell to get the output."
   ]
  },
  {
   "cell_type": "code",
   "execution_count": 17,
   "metadata": {},
   "outputs": [
    {
     "data": {
      "text/html": [
       "<div>\n",
       "<style scoped>\n",
       "    .dataframe tbody tr th:only-of-type {\n",
       "        vertical-align: middle;\n",
       "    }\n",
       "\n",
       "    .dataframe tbody tr th {\n",
       "        vertical-align: top;\n",
       "    }\n",
       "\n",
       "    .dataframe thead th {\n",
       "        text-align: right;\n",
       "    }\n",
       "</style>\n",
       "<table border=\"1\" class=\"dataframe\">\n",
       "  <thead>\n",
       "    <tr style=\"text-align: right;\">\n",
       "      <th></th>\n",
       "      <th>Apple</th>\n",
       "      <th>Banana</th>\n",
       "      <th>Cherry</th>\n",
       "    </tr>\n",
       "  </thead>\n",
       "  <tbody>\n",
       "    <tr>\n",
       "      <th>0</th>\n",
       "      <td>10</td>\n",
       "      <td>15</td>\n",
       "      <td>5</td>\n",
       "    </tr>\n",
       "    <tr>\n",
       "      <th>1</th>\n",
       "      <td>20</td>\n",
       "      <td>30</td>\n",
       "      <td>10</td>\n",
       "    </tr>\n",
       "  </tbody>\n",
       "</table>\n",
       "</div>"
      ],
      "text/plain": [
       "   Apple  Banana  Cherry\n",
       "0     10      15       5\n",
       "1     20      30      10"
      ]
     },
     "execution_count": 17,
     "metadata": {},
     "output_type": "execute_result"
    }
   ],
   "source": [
    "# Type in the DataFrame Variable name created above to get the output\n",
    "DATA2"
   ]
  },
  {
   "cell_type": "markdown",
   "metadata": {},
   "source": [
    "The Output above will look similar to the one that is given below.   \n",
    "   \n",
    "![](./Assets/Ex_1_2.png)"
   ]
  },
  {
   "cell_type": "markdown",
   "metadata": {},
   "source": [
    "### Task 1"
   ]
  },
  {
   "cell_type": "markdown",
   "metadata": {},
   "source": [
    "Create a ```DataFrame``` named ```DATAFRAME_1```, which when printed, will provide the following output:\n",
    "\n",
    "![](./Assets/Ex_1_3.png)"
   ]
  },
  {
   "cell_type": "code",
   "execution_count": 19,
   "metadata": {},
   "outputs": [
    {
     "data": {
      "text/plain": [
       "'Correct Answer!'"
      ]
     },
     "execution_count": 19,
     "metadata": {},
     "output_type": "execute_result"
    }
   ],
   "source": [
    "# Type in the code below\n",
    "DATAFRAME_1 = pd.DataFrame({'Apple': [69, 27, 27, 27],\n",
    "                            'Banana': [45,67, 78, 45],\n",
    "                            'Cherry': [34, 68, 48, 57]\n",
    "                           })\n",
    "\n",
    "\n",
    "Tutorial_1.TASK_1( DATAFRAME_1 )"
   ]
  },
  {
   "cell_type": "markdown",
   "metadata": {},
   "source": [
    "### Task 2"
   ]
  },
  {
   "cell_type": "markdown",
   "metadata": {},
   "source": [
    "Create a ```DataFrame``` named ```DATAFRAME_2```, which when printed, will provide the following output"
   ]
  },
  {
   "cell_type": "code",
   "execution_count": 22,
   "metadata": {},
   "outputs": [
    {
     "data": {
      "text/plain": [
       "'Correct Answer!'"
      ]
     },
     "execution_count": 22,
     "metadata": {},
     "output_type": "execute_result"
    }
   ],
   "source": [
    "# Type in the code below\n",
    "\n",
    "DATAFRAME_2 = pd.DataFrame({'Yes': [50, 21], \n",
    "                            'No': [131, 2]})\n",
    "\n",
    "\n",
    "Tutorial_1.TASK_2( DATAFRAME_2 )"
   ]
  },
  {
   "cell_type": "markdown",
   "metadata": {},
   "source": [
    "---   \n",
    "---"
   ]
  },
  {
   "cell_type": "markdown",
   "metadata": {},
   "source": [
    "## Creating a ```Series```"
   ]
  },
  {
   "cell_type": "markdown",
   "metadata": {},
   "source": [
    "A ```Series```, unlike a ```DataFrame```, is not a Table, but rather in a form of ```List```.   \n",
    "   \n",
    "Creating a ```Series``` is done by using the following syntax: ```Series Variable = pd.Series( iterable )```, where\n",
    "- The ```iterable``` is an ```N-Dimensional``` ```List```"
   ]
  },
  {
   "cell_type": "code",
   "execution_count": 26,
   "metadata": {},
   "outputs": [],
   "source": [
    "# Create a Series called 'DATA3' with the iterable 'example' passed into it\n",
    "example = [1, 2, 3, 4, 5]\n",
    "\n",
    "\n",
    "DATA3 = pd.Series( example , dtype='int16')"
   ]
  },
  {
   "cell_type": "markdown",
   "metadata": {},
   "source": [
    "Now try printing the ```Series``` Variable by typing its name in the code cell below"
   ]
  },
  {
   "cell_type": "code",
   "execution_count": 27,
   "metadata": {},
   "outputs": [
    {
     "data": {
      "text/plain": [
       "0    1\n",
       "1    2\n",
       "2    3\n",
       "3    4\n",
       "4    5\n",
       "dtype: int16"
      ]
     },
     "execution_count": 27,
     "metadata": {},
     "output_type": "execute_result"
    }
   ],
   "source": [
    "# type in the name of the Series variable to get the output\n",
    "DATA3"
   ]
  },
  {
   "cell_type": "markdown",
   "metadata": {},
   "source": [
    "The above Output should look like the image given below:   \n",
    "![](./Assets/Ex_1_4.png)"
   ]
  },
  {
   "cell_type": "markdown",
   "metadata": {},
   "source": [
    "Now try creating a ```Series``` Variable of 2-Dimensions"
   ]
  },
  {
   "cell_type": "code",
   "execution_count": 43,
   "metadata": {},
   "outputs": [
    {
     "data": {
      "text/plain": [
       "0    (1, 2, 3)\n",
       "1    (4, 5, 6)\n",
       "2    (7, 8, 9)\n",
       "dtype: object"
      ]
     },
     "execution_count": 43,
     "metadata": {},
     "output_type": "execute_result"
    }
   ],
   "source": [
    "# Create a Series called 'DATA4' with the iterable 'example' passed into it\n",
    "example = [[1, 2, 3], [4, 5, 6], [7, 8, 9]]\n",
    "\n",
    "DATA4 = pd.Series( example , dtype='int16')\n",
    "DATA4"
   ]
  },
  {
   "cell_type": "markdown",
   "metadata": {},
   "source": [
    "The output should look something like this:   \n",
    "![](./Assets/Ex_1_5.png)"
   ]
  },
  {
   "cell_type": "markdown",
   "metadata": {},
   "source": [
    "### Task 3"
   ]
  },
  {
   "cell_type": "markdown",
   "metadata": {},
   "source": [
    "Create a ```Series``` called ```SERIES_1```, which when printed, should give the following output:"
   ]
  },
  {
   "cell_type": "code",
   "execution_count": 34,
   "metadata": {},
   "outputs": [
    {
     "data": {
      "text/plain": [
       "0    57\n",
       "1    32\n",
       "2    26\n",
       "3    67\n",
       "4    56\n",
       "dtype: int64"
      ]
     },
     "execution_count": 34,
     "metadata": {},
     "output_type": "execute_result"
    }
   ],
   "source": [
    "# Type in the code below\n",
    "\n",
    "SERIES_1 = pd.Series( [57, 32, 26, 67, 56] )\n",
    "SERIES_1\n",
    "\n",
    "# Tutorial_1.TASK_3( SERIES_1 )"
   ]
  },
  {
   "cell_type": "markdown",
   "metadata": {},
   "source": []
  }
 ],
 "metadata": {
  "kernelspec": {
   "display_name": "Python 3",
   "language": "python",
   "name": "python3"
  },
  "language_info": {
   "codemirror_mode": {
    "name": "ipython",
    "version": 3
   },
   "file_extension": ".py",
   "mimetype": "text/x-python",
   "name": "python",
   "nbconvert_exporter": "python",
   "pygments_lexer": "ipython3",
   "version": "3.11.9"
  }
 },
 "nbformat": 4,
 "nbformat_minor": 2
}
